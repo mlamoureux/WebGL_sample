{
 "cells": [
  {
   "cell_type": "markdown",
   "metadata": {},
   "source": [
    "# WebGL\n",
    "\n",
    "This is for the CREWES paper. \n",
    "\n",
    "We want to simplify the code so there are no redundancies.\n",
    "\n",
    "Figure out how to get a complicated velocity field in there, like Marmousi.\n",
    "\n",
    "Use physical values.\n",
    "\n",
    "\n",
    "We will do the wave equation (2D) on the GPU, using gpgpUtility.\n",
    "\n",
    "\n"
   ]
  },
  {
   "cell_type": "markdown",
   "metadata": {},
   "source": [
    "## Math\n",
    "\n",
    "Let's remember what the wave eqn is:\n",
    "\n",
    "$$\\frac{1}{c^2} \\frac{\\partial^2 u}{\\partial t^2} =  \\nabla^2 u.$$\n",
    "\n",
    "As central differences, we write\n",
    "$$\\frac{1}{c^2} \\frac{u(,t-\\Delta t) - 2u(,t) + u(,t + \\Delta t)}{\\Delta t ^2} =  \n",
    "\\frac{u(,x-\\Delta x) + u(,y - \\Delta y) + u(,x + \\Delta x)+ u(,y + \\Delta y) - 4u(,)}{\\Delta x ^2},$$\n",
    "where we are assuming $\\Delta x = \\Delta y$. \n",
    "\n",
    "For time-stepping, we re-arrange as\n",
    "$$u(,t + \\Delta t) = 2u(,t) - u(,t-\\Delta t) + \\frac{c^2 \\Delta t^2}{\\Delta x^2}\n",
    "\\left[ u(,x-\\Delta x) + u(,y - \\Delta y) + u(,x + \\Delta x)+ u(,y + \\Delta y) - 4u(,) \\right].$$\n",
    "\n",
    "When $\\Delta x$ and $\\Delta y$ are different, we should write as\n",
    "$$u(,t + \\Delta t) = 2u(,t) - u(,t-\\Delta t) + \n",
    "\\frac{c^2 \\Delta t^2}{\\Delta x^2}\n",
    "\\left[ u(,x-\\Delta x) + u(,x + \\Delta x)- 2u(,) \\right] +\n",
    "\\frac{c^2 \\Delta t^2}{\\Delta y^2} \n",
    "\\left[u(,y - \\Delta y) + u(,y + \\Delta y) - 2u(,) \\right].$$"
   ]
  },
  {
   "cell_type": "markdown",
   "metadata": {},
   "source": [
    "## \n",
    "\n",
    "The key is that the waveform $u$ will be stored in a texture buffer. There are three versions, the current waveform (\"waveform\") the old waveform (\"oldwaveform\") and the new waveform (which has no name, but is the output of the shader program.)\n",
    "\n",
    "Basic idea is \n",
    "$$ newwaveform = 2*waveform - oldwaveform + Laplacian(waveform).$$\n",
    "\n",
    "The key bit of WebGL code is this:\n",
    "```\n",
    "void main()\n",
    "{\n",
    "  float dx;\n",
    "  float dy;\n",
    "  float h;\n",
    "  vec2  dss;\n",
    "  vec2  dtt;\n",
    "  vec4  value;\n",
    "  dx    = xLength/float(xResolution);\n",
    "  dy    = yLength/float(yResolution);\n",
    "  dss    = vec2(1.0/float(xResolution), 0.0);\n",
    "  dtt    = vec2(0.0, 1.0/float(yResolution));\n",
    "  value = texture2D(waveFunction, vTextureCoord);\n",
    "\n",
    "  gl_FragColor.r = 2.0*value.r\n",
    "     - texture2D(oldWaveFunction,vTextureCoord).r\n",
    "     + (value.g)*dt*dt*( texture2D(waveFunction, vTextureCoord+dss).r\n",
    "     +     texture2D(waveFunction, vTextureCoord-dss).r \n",
    "     -   2.0*value.r)/(dx*dx)\"\n",
    "     +  (value.g)*dt*dt*(texture2D(waveFunction, vTextureCoord+dtt).r\n",
    "     +     texture2D(waveFunction, vTextureCoord-dtt).r \n",
    "     -   2.0*value.r )/(dy*dy); \n",
    "\n",
    "  gl_FragColor.g = value.g;  // carry over the speed variable\n",
    "}\n",
    "```"
   ]
  },
  {
   "cell_type": "markdown",
   "metadata": {
    "collapsed": true
   },
   "source": [
    "## Example 3.\n",
    "\n",
    "Address the to-do above.\n"
   ]
  },
  {
   "cell_type": "code",
   "execution_count": 37,
   "metadata": {},
   "outputs": [
    {
     "name": "stdout",
     "output_type": "stream",
     "text": [
      "Overwriting myFile1.html\n"
     ]
    }
   ],
   "source": [
    "%%writefile myFile1.html\n",
    "<!DOCTYPE html>\n",
    "<html><head id=\"Barebones\">\n",
    "        <meta charset=\"UTF-8\" />\n",
    "        <meta name=\"viewport\" content=\"width=device-width, initial-scale=1.0\" />\n",
    "        <script src=\"GPGPUtility.js\"></script>\n",
    "        <script src=\"WaveEqn.js\"></script>\n",
    "        <script src=\"WavePlot.js\"></script>\n",
    "        <title>WebGLwave example for CREWES</title>\n",
    "        </head>\n",
    "        <body>\n",
    "        <div class=\"content\">\n",
    "            <h1>WebGLwave example for CREWES</h1>\n",
    "\n",
    "\n",
    "            <figure class=\"center\" id=\"results\">\n",
    "                <figcaption>\n",
    "                    You should see a waveform traveling here. \n",
    "                </figcaption>\n",
    "            </figure>\n",
    "        </div>\n",
    "\n",
    "        <br class=\"clear\" />\n",
    "        <script>\n",
    "            \"use strict\";\n",
    "\n",
    "            /** The canvas onto which we render the wave function & potential */\n",
    "            var canvas;\n",
    "            var dt;\n",
    "            var gl;\n",
    "            var gpgpUtility;\n",
    "            /** A two element array containing wave functions for t - deltat and t. */\n",
    "            var initialWaveFunctions;\n",
    "            var nframes;\n",
    "            var nsteps;\n",
    "            var parent;\n",
    "            var renderer;\n",
    "            var vel;\n",
    "            var w;\n",
    "            var waveengine;\n",
    "            var waveFunctionData, waveFunctionTexture0, waveFunctionTexture1, waveFunctionTexture2;\n",
    "            var x0;\n",
    "            var y0;\n",
    "            var xLength;\n",
    "            var xResolution;\n",
    "            var yLength;\n",
    "            var yResolution;\n",
    "\n",
    "            parent = document.getElementById(\"results\")\n",
    "\n",
    "            xLength = 4000.0; // in meters\n",
    "            yLength = 4000.0; // in meters\n",
    "            vel = 1000.0; // velocity in m/s\n",
    "            x0 = .25*xLength; // location and width of initial Gaussian\n",
    "            y0 = .75*yLength;\n",
    "            w = 0.05*xLength; // width of the initial Gaussian\n",
    "\n",
    "            // number of sample points (x-dir y-dir)\n",
    "            xResolution = 1000; \n",
    "            yResolution = 1000; \n",
    "            // sample interval in time\n",
    "            dt = .001; // seconds\n",
    "            // Number of frames to compute and animate\n",
    "            nframes = 600;\n",
    "            // Number of delta t timesteps per frams\n",
    "            nsteps = 5;\n",
    "\n",
    "            gpgpUtility = new vizit.utility.GPGPUtility(xResolution, yResolution, {premultipliedAlpha: false});\n",
    "            gpgpUtility.setProblemSize(xResolution, yResolution);\n",
    "\n",
    "            canvas = gpgpUtility.getCanvas();\n",
    "            canvas.style.height = yResolution + \"px\";\n",
    "            parent.insertBefore(canvas, parent.firstChild);\n",
    "\n",
    "            function gaussWaveform(waveform,xRez,yRez,xLen,yLen) {\n",
    "                for (var j = 0; j < yRez; ++j) {\n",
    "                    for (var i = 0; i < xRez; ++i) {\n",
    "                        var x = xLen*(i/xRez) - x0;\n",
    "                        var y = yLen*(j/yRez) - y0;\n",
    "                        waveform[4*(i + j*xRez)] = \n",
    "                            10.0*Math.exp(-(x*x + y*y)/(w*w))*Math.cos(x/50 - y/50);\n",
    "                        waveform[4*(i + j*xRez) + 1] = \n",
    "                            (j > yRez/2) ? 1.0 : 0.1;\n",
    "                    }\n",
    "                }\n",
    "                return waveform;\n",
    "            }\n",
    "            // we stuff velocity^2 info into the green channel;\n",
    "            function velField(waveform,xRez,yRez) {\n",
    "                for (var j = 0; j < yRez; ++j) {\n",
    "                    for (var i = 0; i < xRez; ++i) {\n",
    "                        waveform[4*(i + j*xRez) + 1] = \n",
    "                            (j > yRez/2) ? vel*vel : .25*vel*vel;\n",
    "                    }\n",
    "                }\n",
    "                return waveform;\n",
    "            }\n",
    "\n",
    "            /**\n",
    "             * Run the simulation for n time steps, then show the results.\n",
    "             */\n",
    "            function nextFrame() {\n",
    "                for (var i = 0; i < nsteps; ++i) {\n",
    "                    waveengine.timestep();\n",
    "                }\n",
    "\n",
    "                renderer.show(waveengine.getRenderedTexture());\n",
    "\n",
    "                if (nframes--) {\n",
    "                    requestAnimationFrame(nextFrame);\n",
    "                }\n",
    "            }\n",
    "\n",
    "            waveFunctionData = new Float32Array(4 * xResolution * yResolution);\n",
    "            waveFunctionData = gaussWaveform(waveFunctionData,xResolution,yResolution,xLength,yLength);\n",
    "            waveFunctionData = velField(waveFunctionData,xResolution,yResolution);\n",
    "\n",
    "            waveFunctionTexture0 = gpgpUtility.makeTexture(WebGLRenderingContext.FLOAT, waveFunctionData);\n",
    "            waveFunctionTexture1 = gpgpUtility.makeTexture(WebGLRenderingContext.FLOAT, waveFunctionData);\n",
    "            waveFunctionTexture2 = gpgpUtility.makeTexture(WebGLRenderingContext.FLOAT, waveFunctionData);\n",
    "\n",
    "\n",
    "            waveengine = new WaveEngine(gpgpUtility, xResolution, yResolution, xLength, yLength, dt);\n",
    "            renderer = new WaveResults(gpgpUtility, parent, xResolution, yResolution);\n",
    "\n",
    "            waveengine.setInitialTextures(waveFunctionTexture0, waveFunctionTexture1, waveFunctionTexture2);\n",
    "\n",
    "            renderer.show(waveengine.getRenderedTexture());\n",
    "\n",
    "/*****************\n",
    " *  Assorted timing information. Don't need to run this.\n",
    "    var startGPU = window.performance.now();\n",
    "    var result = waveengine.timestep();\n",
    "    var endGPU = window.performance.now();\n",
    "    var gpuTime = endGPU - startGPU;\n",
    "    console.log(`GPU - one step: ${gpuTime}ms`);\n",
    "    // do it again, in a loop\n",
    "    startGPU = window.performance.now();\n",
    "         for (var i = 0; i < 100; ++i) {\n",
    "             result = waveengine.timestep();\n",
    "        }\n",
    "    endGPU = window.performance.now();\n",
    "    gpuTime = endGPU - startGPU;\n",
    "    console.log(`GPU - 100 steps: ${gpuTime}ms`);\n",
    "    console.log(`endGPU: ${endGPU}ms`);\n",
    "    console.log(`startGPU: ${startGPU}ms`);\n",
    "****************/\n",
    "\n",
    "            requestAnimationFrame(nextFrame);\n",
    "    </script>\n",
    "</html>"
   ]
  },
  {
   "cell_type": "code",
   "execution_count": 20,
   "metadata": {},
   "outputs": [
    {
     "data": {
      "text/html": [
       "<iframe src='myFile1.html' width=1000 height=1000>"
      ],
      "text/plain": [
       "<IPython.core.display.HTML object>"
      ]
     },
     "metadata": {},
     "output_type": "display_data"
    }
   ],
   "source": [
    "%%html\n",
    "<iframe src='myFile1.html' width=1000 height=1000>"
   ]
  },
  {
   "cell_type": "code",
   "execution_count": null,
   "metadata": {},
   "outputs": [],
   "source": []
  },
  {
   "cell_type": "markdown",
   "metadata": {
    "collapsed": true
   },
   "source": [
    "I don't understand the timings that I am getting. So let's plot a few things."
   ]
  },
  {
   "cell_type": "code",
   "execution_count": 23,
   "metadata": {},
   "outputs": [],
   "source": [
    "Loopsize = [10,10,20,20,30,30,40,40,50,50]\n",
    "WinTime = [1.137,1.056,3.729,3.772,6.856,6.881,9.729,9.545,12.468,12.536]\n",
    "RealTime = [3.56,3.55,6.60,6.42,9.52,9.50,12.62,12.28,15.35,15.29]"
   ]
  },
  {
   "cell_type": "code",
   "execution_count": 2,
   "metadata": {},
   "outputs": [],
   "source": [
    "from matplotlib.pyplot import *"
   ]
  },
  {
   "cell_type": "code",
   "execution_count": 24,
   "metadata": {},
   "outputs": [
    {
     "data": {
      "text/plain": [
       "[<matplotlib.lines.Line2D at 0x15146df240>,\n",
       " <matplotlib.lines.Line2D at 0x15146dfc18>]"
      ]
     },
     "execution_count": 24,
     "metadata": {},
     "output_type": "execute_result"
    },
    {
     "data": {
      "image/png": "[encoded data removed]",
      "text/plain": [
       "<matplotlib.figure.Figure at 0x15146397f0>"
      ]
     },
     "metadata": {},
     "output_type": "display_data"
    }
   ],
   "source": [
    "plot(Loopsize,WinTime,'.', Loopsize,RealTime,'.')"
   ]
  },
  {
   "cell_type": "code",
   "execution_count": 5,
   "metadata": {},
   "outputs": [],
   "source": [
    "import numpy as np\n",
    "import scipy.optimize as optimization"
   ]
  },
  {
   "cell_type": "code",
   "execution_count": 6,
   "metadata": {},
   "outputs": [],
   "source": [
    "def func(x, a, b):\n",
    "    return a + b*x "
   ]
  },
  {
   "cell_type": "code",
   "execution_count": null,
   "metadata": {},
   "outputs": [],
   "source": [
    "xdata = np.array(Loopsize)\n",
    "ydata = np.array(WinTime)\n",
    "ab0    = np.array([0.0, 0.0])\n",
    "print(optimization.curve_fit(func, xdata, ydata, ab0))"
   ]
  },
  {
   "cell_type": "code",
   "execution_count": null,
   "metadata": {},
   "outputs": [],
   "source": [
    "xdata = np.array(Loopsize)\n",
    "ydata = np.array(RealTime)\n",
    "ab0    = np.array([0.0, 0.0])\n",
    "print(optimization.curve_fit(func, xdata, ydata, ab0))"
   ]
  },
  {
   "cell_type": "markdown",
   "metadata": {},
   "source": [
    "Slope is about .29 seconds/outerloop. "
   ]
  },
  {
   "cell_type": "raw",
   "metadata": {},
   "source": [
    "Some raw data.\n",
    "GPU - one step: 0.09999999929277692ms\n",
    "myFile1.html:143 GPU - 10000 steps: 736.6000000001804ms\n",
    "myFile1.html:135 GPU - one step: 0.10000000111176632ms\n",
    "myFile1.html:143 GPU - 10000 steps: 863.4000000001834ms\n",
    "myFile1.html:135 GPU - one step: 0.20000000040454324ms\n",
    "myFile1.html:143 GPU - 10000 steps: 1248.6000000008062ms\n",
    "myFile1.html:135 GPU - one step: 0.19999999858555384ms\n",
    "myFile1.html:143 GPU - 10000 steps: 1188.0000000001019ms\n",
    "myFile1.html:135 GPU - one step: 0.09999999929277692ms\n",
    "myFile1.html:143 GPU - 20000 steps: 3618.2000000007974ms\n",
    "myFile1.html:135 GPU - one step: 0.20000000040454324ms\n",
    "myFile1.html:143 GPU - 20000 steps: 3758.1000000009226ms\n",
    "myFile1.html:135 GPU - one step: 0.09999999929277692ms\n",
    "myFile1.html:143 GPU - 20000 steps: 3645.300000000134ms\n",
    "myFile1.html:135 GPU - one step: 0.10000000111176632ms\n",
    "myFile1.html:143 GPU - 30000 steps: 6817.900000000009ms\n",
    "myFile1.html:135 GPU - one step: 0.09999999929277692ms\n",
    "myFile1.html:143 GPU - 30000 steps: 6792.199999999866ms\n",
    "myFile1.html:135 GPU - one step: 0.09999999929277692ms\n",
    "myFile1.html:143 GPU - 30000 steps: 6801.199999999881ms\n",
    "myFile1.html:135 GPU - one step: 0.09999999929277692ms\n",
    "myFile1.html:143 GPU - 40000 steps: 9669.700000000375ms\n",
    "myFile1.html:135 GPU - one step: 0.19999999858555384ms\n",
    "myFile1.html:143 GPU - 40000 steps: 9616.099999999278ms\n",
    "myFile1.html:135 GPU - one step: 0.09999999929277692ms\n",
    "myFile1.html:143 GPU - 40000 steps: 9755.400000000009ms\n",
    "myFile1.html:135 GPU - one step: 0.19999999858555384ms\n",
    "myFile1.html:143 GPU - 50000 steps: 12610.199999999168ms\n",
    "myFile1.html:135 GPU - one step: 0.10000000111176632ms\n",
    "myFile1.html:143 GPU - 50000 steps: 12707.000000000335ms\n",
    "myFile1.html:135 GPU - one step: 0.20000000040454324ms\n",
    "myFile1.html:143 GPU - 50000 steps: 12685.800000001109ms"
   ]
  },
  {
   "cell_type": "code",
   "execution_count": 11,
   "metadata": {},
   "outputs": [
    {
     "data": {
      "image/png": "[encoded data removed]",
      "text/plain": [
       "<matplotlib.figure.Figure at 0x151463e978>"
      ]
     },
     "metadata": {},
     "output_type": "display_data"
    }
   ],
   "source": [
    "Loopsize = [10,10,10,10,20,20,20,30,30,30,40,40,40,50,50,50]\n",
    "WinTime = [737,863,1248,1188,3618,3758,3645,6817,6792,6801,9669,9616,9755,12610,12707,12685]\n",
    "plot(Loopsize,WinTime,'.');"
   ]
  },
  {
   "cell_type": "code",
   "execution_count": 12,
   "metadata": {},
   "outputs": [
    {
     "name": "stdout",
     "output_type": "stream",
     "text": [
      "(array([-2006.47036848,   292.63592588]), array([[ 7.49089469e+03, -2.07579009e+02],\n",
      "       [-2.07579009e+02,  7.22013939e+00]]))\n"
     ]
    }
   ],
   "source": [
    "xdata = np.array(Loopsize)\n",
    "ydata = np.array(WinTime)\n",
    "ab0    = np.array([0.0, 0.0])\n",
    "print(optimization.curve_fit(func, xdata, ydata, ab0))"
   ]
  },
  {
   "cell_type": "code",
   "execution_count": 18,
   "metadata": {},
   "outputs": [
    {
     "name": "stdout",
     "output_type": "stream",
     "text": [
      "(array([-1.72074795,  0.28739452]), array([[ 0.14391535, -0.00356362],\n",
      "       [-0.00356362,  0.00016447]]))\n"
     ]
    }
   ],
   "source": [
    "xdata = np.array([5,10,50])\n",
    "ydata = np.array([.0124,.820,12.686])\n",
    "ab0    = np.array([0.0, 0.0])\n",
    "print(optimization.curve_fit(func, xdata, ydata, ab0))"
   ]
  },
  {
   "cell_type": "code",
   "execution_count": 17,
   "metadata": {},
   "outputs": [
    {
     "data": {
      "text/plain": [
       "[<matplotlib.lines.Line2D at 0x1514755a58>]"
      ]
     },
     "execution_count": 17,
     "metadata": {},
     "output_type": "execute_result"
    },
    {
     "data": {
      "image/png": "[encoded data removed]",
      "text/plain": [
       "<matplotlib.figure.Figure at 0x1514663e48>"
      ]
     },
     "metadata": {},
     "output_type": "display_data"
    }
   ],
   "source": [
    "plot([5,10,50],[.0124,.820,12.686])"
   ]
  },
  {
   "cell_type": "code",
   "execution_count": 19,
   "metadata": {},
   "outputs": [
    {
     "data": {
      "text/plain": [
       "1532.258064516129"
      ]
     },
     "execution_count": 19,
     "metadata": {},
     "output_type": "execute_result"
    }
   ],
   "source": [
    "19/.0124\n"
   ]
  },
  {
   "cell_type": "code",
   "execution_count": 20,
   "metadata": {},
   "outputs": [
    {
     "data": {
      "text/plain": [
       "46.34146341463415"
      ]
     },
     "execution_count": 20,
     "metadata": {},
     "output_type": "execute_result"
    }
   ],
   "source": [
    "38/.820\n"
   ]
  },
  {
   "cell_type": "code",
   "execution_count": 21,
   "metadata": {},
   "outputs": [
    {
     "data": {
      "text/plain": [
       "15.063849913290241"
      ]
     },
     "execution_count": 21,
     "metadata": {},
     "output_type": "execute_result"
    }
   ],
   "source": [
    "191.1/12.686"
   ]
  },
  {
   "cell_type": "code",
   "execution_count": 22,
   "metadata": {},
   "outputs": [
    {
     "data": {
      "text/plain": [
       "13.310104529616725"
      ]
     },
     "execution_count": 22,
     "metadata": {},
     "output_type": "execute_result"
    }
   ],
   "source": [
    "3.82/.287"
   ]
  },
  {
   "cell_type": "markdown",
   "metadata": {},
   "source": [
    "## Nvidia card\n",
    "\n",
    "I have an nvidia card in a PC in the next room. 50,000 loops takes 3.662 seconds. That's 4 times faster than on my Power Mac. Wow."
   ]
  },
  {
   "cell_type": "code",
   "execution_count": 25,
   "metadata": {},
   "outputs": [
    {
     "data": {
      "text/plain": [
       "7.324e-05"
      ]
     },
     "execution_count": 25,
     "metadata": {},
     "output_type": "execute_result"
    }
   ],
   "source": [
    "3.662/50000"
   ]
  },
  {
   "cell_type": "code",
   "execution_count": 26,
   "metadata": {},
   "outputs": [
    {
     "data": {
      "text/plain": [
       "52157.29109776079"
      ]
     },
     "execution_count": 26,
     "metadata": {},
     "output_type": "execute_result"
    }
   ],
   "source": [
    "3.82/Out[25]"
   ]
  },
  {
   "cell_type": "code",
   "execution_count": null,
   "metadata": {},
   "outputs": [],
   "source": []
  }
 ],
 "metadata": {
  "kernelspec": {
   "display_name": "Python 3",
   "language": "python",
   "name": "python3"
  },
  "language_info": {
   "codemirror_mode": {
    "name": "ipython",
    "version": 3
   },
   "file_extension": ".py",
   "mimetype": "text/x-python",
   "name": "python",
   "nbconvert_exporter": "python",
   "pygments_lexer": "ipython3",
   "version": "3.6.4"
  }
 },
 "nbformat": 4,
 "nbformat_minor": 2
}
